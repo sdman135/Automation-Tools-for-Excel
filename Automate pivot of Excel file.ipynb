{
 "cells": [
  {
   "cell_type": "code",
   "execution_count": 7,
   "metadata": {
    "ExecuteTime": {
     "end_time": "2021-06-18T16:38:20.839269Z",
     "start_time": "2021-06-18T16:37:46.638268Z"
    }
   },
   "outputs": [
    {
     "name": "stdout",
     "output_type": "stream",
     "text": [
      "913,000 transactions in your raw data\n",
      "Start Processing ...\n",
      "Processing is completed.\n",
      "500 lines in your final report\n",
      "Start saving report.\n",
      "Your report is saved.\n"
     ]
    }
   ],
   "source": [
    "import pandas as pd\n",
    "import numpy as np\n",
    "\n",
    "# Import Dataframe\n",
    "df = pd.read_csv('train.csv')\n",
    "print(f\"{len(df)} transactions in your raw data\")\n",
    "\n",
    "# Format Date\n",
    "print(\"Start Processing ...\")\n",
    "df['date'] = pd.to_datetime(df['date'])\n",
    "df['month'] = df['date'].dt.month\n",
    "df['year'] = df['date'].dt.year\n",
    "df['month-year'] = df[['month', 'year']].astype(str).apply(lambda t: t['month'].zfill(2) + '-' + t['year'], axis = 1)\n",
    "\n",
    "# month year columns\n",
    "my_cols = [str(i).zfill(2) + '-' + str(j) for j in range(2013, 2018) for i in range(1, 13)]\n",
    "\n",
    "# pivot by store item\n",
    "df_store = pd.pivot_table(df, values='sales', index=['store', 'item'],\n",
    "                    columns=['month-year'], aggfunc=np.sum).fillna(0)\n",
    "\n",
    "# sort by ascending order\n",
    "df_store.sort_values(['store', 'item'], ascending = [True, True], inplace = True)\n",
    "print(\"Processing is completed.\")\n",
    "print(\"{:,} lines in your final report\".format(len(df_store)))\n",
    "\n",
    "# reorder columns\n",
    "df_store = df_store[my_cols]\n",
    "\n",
    "# Final report\n",
    "print(\"Start saving report.\")\n",
    "df_store.to_excel('sales_report.xlsx')\n",
    "print(\"Your report is saved.\")\n",
    "\n",
    "# Will have to run \"pyinstaller --onefile [script_file_enter_here.py]\" in terminal to compile into exe file"
   ]
  },
  {
   "cell_type": "code",
   "execution_count": null,
   "metadata": {},
   "outputs": [],
   "source": []
  }
 ],
 "metadata": {
  "kernelspec": {
   "display_name": "Python 3",
   "language": "python",
   "name": "python3"
  },
  "language_info": {
   "codemirror_mode": {
    "name": "ipython",
    "version": 3
   },
   "file_extension": ".py",
   "mimetype": "text/x-python",
   "name": "python",
   "nbconvert_exporter": "python",
   "pygments_lexer": "ipython3",
   "version": "3.7.4"
  },
  "toc": {
   "base_numbering": 1,
   "nav_menu": {},
   "number_sections": true,
   "sideBar": true,
   "skip_h1_title": false,
   "title_cell": "Table of Contents",
   "title_sidebar": "Contents",
   "toc_cell": false,
   "toc_position": {},
   "toc_section_display": true,
   "toc_window_display": false
  }
 },
 "nbformat": 4,
 "nbformat_minor": 2
}
